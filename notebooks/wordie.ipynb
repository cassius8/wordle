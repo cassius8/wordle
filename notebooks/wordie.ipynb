{
 "cells": [
  {
   "cell_type": "code",
   "execution_count": null,
   "id": "f1a2391e",
   "metadata": {},
   "outputs": [],
   "source": [
    "from nltk.corpus import words\n",
    "from english_words import english_words_lower_alpha_set as words_short\n",
    "from random import sample\n",
    "from IPython.display import HTML as html_print"
   ]
  },
  {
   "cell_type": "code",
   "execution_count": null,
   "id": "9a7ada15",
   "metadata": {},
   "outputs": [],
   "source": [
    "def guess_printer(code,guess): #takes in color code and yoru guesed word, and prints out colored word\n",
    "    guess_print = []\n",
    "    for i in range(5):\n",
    "        if code[i]==1:\n",
    "            guess_print.append((guess[i],'orange'))\n",
    "        elif code[i]==2:\n",
    "            guess_print.append((guess[i],'green'))#\n",
    "        else:\n",
    "            guess_print.append((guess[i],'black'))\n",
    "    return(html_print(cstr(''.join([cstr(i[0],i[1]) for i in guess_print]))))\n",
    "def cstr(s, color='black'):#takes in text string and color and exports html string\n",
    "    return \"<text style=color:{}>{}</text>\".format(color, s)\n",
    "def five_letter_gen(X):\n",
    "    five_letters = []\n",
    "    for word in X:\n",
    "        if len(word)==5:\n",
    "            five_letters.append(word)\n",
    "    return five_letters\n",
    "words_short = five_letter_gen(words_short)\n",
    "words_long = five_letter_gen(words.words())\n",
    "def wordie(word):\n",
    "#     print(word)\n",
    "    guess_cnt=1\n",
    "    while guess_cnt<7:\n",
    "        print(\"guess:\",guess_cnt)\n",
    "        guess = input()\n",
    "        code =[0,0,0,0,0]\n",
    "        if guess in words_long:# check that the new guess is in the words list.\n",
    "            for pos in range(0,5): #iterate through letters in guess to check against word  \n",
    "                if guess[pos]in word:\n",
    "                    code[pos]=1\n",
    "                if guess[pos]==word[pos]:\n",
    "                    code[pos]=2\n",
    "            guess_cnt+=1\n",
    "            display(guess_printer(code,guess))\n",
    "        else:\n",
    "            print(\"not an accepted word\")\n",
    "        if guess == word:\n",
    "            print(\"You Win!\")\n",
    "            return    \n",
    "    print(\"you Lose. The word is \", word)\n",
    "    return"
   ]
  },
  {
   "cell_type": "code",
   "execution_count": null,
   "id": "b12922cd",
   "metadata": {},
   "outputs": [],
   "source": [
    "def main():\n",
    "    wordie(sample(words_short,1)[0])"
   ]
  },
  {
   "cell_type": "code",
   "execution_count": null,
   "id": "61b7e6b7",
   "metadata": {},
   "outputs": [],
   "source": [
    "if __name__=='__main__':\n",
    "    main()"
   ]
  }
 ],
 "metadata": {
  "kernelspec": {
   "display_name": "Python (DG)",
   "language": "python",
   "name": "dg"
  },
  "language_info": {
   "codemirror_mode": {
    "name": "ipython",
    "version": 3
   },
   "file_extension": ".py",
   "mimetype": "text/x-python",
   "name": "python",
   "nbconvert_exporter": "python",
   "pygments_lexer": "ipython3",
   "version": "3.10.2"
  }
 },
 "nbformat": 4,
 "nbformat_minor": 5
}
