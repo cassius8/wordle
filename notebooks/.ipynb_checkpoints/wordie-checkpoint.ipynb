{
 "cells": [
  {
   "cell_type": "code",
   "execution_count": null,
   "id": "f1a2391e",
   "metadata": {},
   "outputs": [],
   "source": [
    "from nltk.corpus import words\n",
    "from english_words import english_words_lower_alpha_set as words_short\n",
    "from random import sample"
   ]
  },
  {
   "cell_type": "code",
   "execution_count": null,
   "id": "1929afec",
   "metadata": {},
   "outputs": [],
   "source": [
    "words_list = words_short\n",
    "words_long = words.words()"
   ]
  },
  {
   "cell_type": "code",
   "execution_count": null,
   "id": "93989070",
   "metadata": {},
   "outputs": [],
   "source": [
    "print(len(words_long), len(words_short))"
   ]
  },
  {
   "cell_type": "code",
   "execution_count": null,
   "id": "4422133b",
   "metadata": {},
   "outputs": [],
   "source": [
    "def five_letter_gen(X):\n",
    "    five_letters = []\n",
    "    for word in X:\n",
    "        if len(word)==5:\n",
    "            five_letters.append(word)\n",
    "    return five_letters\n",
    "five_letters = five_letter_gen(words_short)"
   ]
  },
  {
   "cell_type": "code",
   "execution_count": null,
   "id": "e8005a78",
   "metadata": {},
   "outputs": [],
   "source": [
    "len(five_letters)"
   ]
  },
  {
   "cell_type": "code",
   "execution_count": null,
   "id": "8b4c61e5",
   "metadata": {},
   "outputs": [],
   "source": [
    "def wordie(word):\n",
    "#     print(word)\n",
    "    guess_cnt=1\n",
    "    while guess_cnt<6:\n",
    "        print(\"guess:\",guess_cnt)\n",
    "        guess = input()\n",
    "        code =[0,0,0,0,0]\n",
    "        if guess in words_long:\n",
    "            for pos in range(0,5):\n",
    "                \n",
    "                if guess[pos]in word:\n",
    "                    code[pos]=1\n",
    "                if guess[pos]==word[pos]:\n",
    "                    code[pos]=2\n",
    "            guess_cnt+=1\n",
    "            print(code)\n",
    "        else:\n",
    "            print(\"not an accepted word\")\n",
    "        if guess == word:\n",
    "            return(\"You Win!\")    \n",
    "    print(\"you Lose. The word is \", word)\n",
    "    return"
   ]
  },
  {
   "cell_type": "code",
   "execution_count": null,
   "id": "b12922cd",
   "metadata": {},
   "outputs": [],
   "source": [
    "wordie(sample(five_letters,1)[0])"
   ]
  },
  {
   "cell_type": "code",
   "execution_count": null,
   "id": "61b7e6b7",
   "metadata": {},
   "outputs": [],
   "source": []
  },
  {
   "cell_type": "code",
   "execution_count": null,
   "id": "73238fd2",
   "metadata": {},
   "outputs": [],
   "source": []
  }
 ],
 "metadata": {
  "kernelspec": {
   "display_name": "Python (DG)",
   "language": "python",
   "name": "dg"
  },
  "language_info": {
   "codemirror_mode": {
    "name": "ipython",
    "version": 3
   },
   "file_extension": ".py",
   "mimetype": "text/x-python",
   "name": "python",
   "nbconvert_exporter": "python",
   "pygments_lexer": "ipython3",
   "version": "3.10.2"
  }
 },
 "nbformat": 4,
 "nbformat_minor": 5
}
